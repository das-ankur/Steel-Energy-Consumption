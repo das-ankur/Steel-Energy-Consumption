{
 "cells": [
  {
   "cell_type": "markdown",
   "id": "4bb6e00c",
   "metadata": {},
   "source": [
    "# <center>Clustering : Steel Data</center>"
   ]
  },
  {
   "cell_type": "markdown",
   "id": "14a37574",
   "metadata": {},
   "source": [
    "**1. Calculate optimal  number of clusters.**<br>\n",
    "**2. Assign each data point to a particular cluster.**"
   ]
  },
  {
   "cell_type": "code",
   "execution_count": 15,
   "id": "030d82b1",
   "metadata": {},
   "outputs": [],
   "source": [
    "# Import Libraries\n",
    "import pandas as pd\n",
    "import numpy as np\n",
    "import matplotlib.pyplot as plt\n",
    "%matplotlib inline\n",
    "import seaborn as sns\n",
    "import matplotlib.pyplot as plt\n",
    "from sklearn.cluster import KMeans\n",
    "from kneed import KneeLocator\n",
    "import pickle"
   ]
  },
  {
   "cell_type": "code",
   "execution_count": 16,
   "id": "1eff9c95",
   "metadata": {},
   "outputs": [
    {
     "data": {
      "text/html": [
       "<div>\n",
       "<style scoped>\n",
       "    .dataframe tbody tr th:only-of-type {\n",
       "        vertical-align: middle;\n",
       "    }\n",
       "\n",
       "    .dataframe tbody tr th {\n",
       "        vertical-align: top;\n",
       "    }\n",
       "\n",
       "    .dataframe thead th {\n",
       "        text-align: right;\n",
       "    }\n",
       "</style>\n",
       "<table border=\"1\" class=\"dataframe\">\n",
       "  <thead>\n",
       "    <tr style=\"text-align: right;\">\n",
       "      <th></th>\n",
       "      <th>Lagging_Current_Reactive.Power_kVarh</th>\n",
       "      <th>Leading_Current_Reactive_Power_kVarh</th>\n",
       "      <th>CO2(tCO2)</th>\n",
       "      <th>Lagging_Current_Power_Factor</th>\n",
       "      <th>Leading_Current_Power_Factor</th>\n",
       "      <th>NSM</th>\n",
       "      <th>WeekStatus</th>\n",
       "      <th>Load_Type</th>\n",
       "      <th>hour</th>\n",
       "      <th>Usage_kWh</th>\n",
       "    </tr>\n",
       "  </thead>\n",
       "  <tbody>\n",
       "    <tr>\n",
       "      <th>0</th>\n",
       "      <td>-0.607869</td>\n",
       "      <td>-0.522712</td>\n",
       "      <td>-0.712161</td>\n",
       "      <td>-0.287349</td>\n",
       "      <td>0.514084</td>\n",
       "      <td>-0.845782</td>\n",
       "      <td>0</td>\n",
       "      <td>0</td>\n",
       "      <td>6</td>\n",
       "      <td>3.53</td>\n",
       "    </tr>\n",
       "    <tr>\n",
       "      <th>1</th>\n",
       "      <td>-0.466496</td>\n",
       "      <td>-0.522712</td>\n",
       "      <td>-0.712161</td>\n",
       "      <td>-1.723965</td>\n",
       "      <td>0.514084</td>\n",
       "      <td>-1.351516</td>\n",
       "      <td>1</td>\n",
       "      <td>0</td>\n",
       "      <td>2</td>\n",
       "      <td>2.95</td>\n",
       "    </tr>\n",
       "    <tr>\n",
       "      <th>2</th>\n",
       "      <td>-0.459735</td>\n",
       "      <td>-0.522712</td>\n",
       "      <td>-0.712161</td>\n",
       "      <td>-1.666394</td>\n",
       "      <td>0.514084</td>\n",
       "      <td>-1.351516</td>\n",
       "      <td>1</td>\n",
       "      <td>0</td>\n",
       "      <td>2</td>\n",
       "      <td>3.10</td>\n",
       "    </tr>\n",
       "    <tr>\n",
       "      <th>3</th>\n",
       "      <td>-0.466496</td>\n",
       "      <td>-0.522712</td>\n",
       "      <td>-0.712161</td>\n",
       "      <td>-1.866042</td>\n",
       "      <td>0.514084</td>\n",
       "      <td>-1.170897</td>\n",
       "      <td>1</td>\n",
       "      <td>0</td>\n",
       "      <td>3</td>\n",
       "      <td>2.74</td>\n",
       "    </tr>\n",
       "    <tr>\n",
       "      <th>4</th>\n",
       "      <td>2.045033</td>\n",
       "      <td>-0.522712</td>\n",
       "      <td>2.389134</td>\n",
       "      <td>0.589937</td>\n",
       "      <td>0.514084</td>\n",
       "      <td>0.274057</td>\n",
       "      <td>1</td>\n",
       "      <td>2</td>\n",
       "      <td>13</td>\n",
       "      <td>106.70</td>\n",
       "    </tr>\n",
       "  </tbody>\n",
       "</table>\n",
       "</div>"
      ],
      "text/plain": [
       "   Lagging_Current_Reactive.Power_kVarh  Leading_Current_Reactive_Power_kVarh  \\\n",
       "0                             -0.607869                             -0.522712   \n",
       "1                             -0.466496                             -0.522712   \n",
       "2                             -0.459735                             -0.522712   \n",
       "3                             -0.466496                             -0.522712   \n",
       "4                              2.045033                             -0.522712   \n",
       "\n",
       "   CO2(tCO2)  Lagging_Current_Power_Factor  Leading_Current_Power_Factor  \\\n",
       "0  -0.712161                     -0.287349                      0.514084   \n",
       "1  -0.712161                     -1.723965                      0.514084   \n",
       "2  -0.712161                     -1.666394                      0.514084   \n",
       "3  -0.712161                     -1.866042                      0.514084   \n",
       "4   2.389134                      0.589937                      0.514084   \n",
       "\n",
       "        NSM  WeekStatus  Load_Type  hour  Usage_kWh  \n",
       "0 -0.845782           0          0     6       3.53  \n",
       "1 -1.351516           1          0     2       2.95  \n",
       "2 -1.351516           1          0     2       3.10  \n",
       "3 -1.170897           1          0     3       2.74  \n",
       "4  0.274057           1          2    13     106.70  "
      ]
     },
     "execution_count": 16,
     "metadata": {},
     "output_type": "execute_result"
    }
   ],
   "source": [
    "# Read Data\n",
    "df = pd.read_csv('train.csv')\n",
    "df.head()"
   ]
  },
  {
   "cell_type": "code",
   "execution_count": 17,
   "id": "7edb442d",
   "metadata": {},
   "outputs": [],
   "source": [
    "# Extract dependent and independent variables\n",
    "x = df.iloc[:, :-1].values\n",
    "y = df.iloc[:, -1].values"
   ]
  },
  {
   "cell_type": "code",
   "execution_count": 18,
   "id": "2767194e",
   "metadata": {},
   "outputs": [
    {
     "data": {
      "image/png": "[encoded data removed]",
      "text/plain": [
       "<Figure size 432x288 with 1 Axes>"
      ]
     },
     "metadata": {
      "needs_background": "light"
     },
     "output_type": "display_data"
    },
    {
     "name": "stdout",
     "output_type": "stream",
     "text": [
      "Optimal number of clusters:  3\n"
     ]
    }
   ],
   "source": [
    "# Calculate optimal no. of clusters\n",
    "wcss=[]\n",
    "for i in range(1, 11):\n",
    "    kmeans=KMeans(n_clusters=i,init='k-means++',random_state=42)\n",
    "    kmeans.fit(x)\n",
    "    wcss.append(kmeans.inertia_)\n",
    "plt.plot(range(1, 11), wcss)\n",
    "plt.title('The Elbow Method')\n",
    "plt.xlabel('Number of clusters')\n",
    "plt.ylabel('WCSS')\n",
    "plt.show()\n",
    "kn = KneeLocator(range(1, 11), wcss, curve='convex', direction='decreasing')\n",
    "print(\"Optimal number of clusters: \",kn.knee)"
   ]
  },
  {
   "cell_type": "code",
   "execution_count": 19,
   "id": "53f2499b",
   "metadata": {},
   "outputs": [
    {
     "data": {
      "text/html": [
       "<div>\n",
       "<style scoped>\n",
       "    .dataframe tbody tr th:only-of-type {\n",
       "        vertical-align: middle;\n",
       "    }\n",
       "\n",
       "    .dataframe tbody tr th {\n",
       "        vertical-align: top;\n",
       "    }\n",
       "\n",
       "    .dataframe thead th {\n",
       "        text-align: right;\n",
       "    }\n",
       "</style>\n",
       "<table border=\"1\" class=\"dataframe\">\n",
       "  <thead>\n",
       "    <tr style=\"text-align: right;\">\n",
       "      <th></th>\n",
       "      <th>Lagging_Current_Reactive.Power_kVarh</th>\n",
       "      <th>Leading_Current_Reactive_Power_kVarh</th>\n",
       "      <th>CO2(tCO2)</th>\n",
       "      <th>Lagging_Current_Power_Factor</th>\n",
       "      <th>Leading_Current_Power_Factor</th>\n",
       "      <th>NSM</th>\n",
       "      <th>WeekStatus</th>\n",
       "      <th>Load_Type</th>\n",
       "      <th>hour</th>\n",
       "      <th>Usage_kWh</th>\n",
       "      <th>Cluster</th>\n",
       "    </tr>\n",
       "  </thead>\n",
       "  <tbody>\n",
       "    <tr>\n",
       "      <th>0</th>\n",
       "      <td>-0.607869</td>\n",
       "      <td>-0.522712</td>\n",
       "      <td>-0.712161</td>\n",
       "      <td>-0.287349</td>\n",
       "      <td>0.514084</td>\n",
       "      <td>-0.845782</td>\n",
       "      <td>0</td>\n",
       "      <td>0</td>\n",
       "      <td>6</td>\n",
       "      <td>3.53</td>\n",
       "      <td>0</td>\n",
       "    </tr>\n",
       "    <tr>\n",
       "      <th>1</th>\n",
       "      <td>-0.466496</td>\n",
       "      <td>-0.522712</td>\n",
       "      <td>-0.712161</td>\n",
       "      <td>-1.723965</td>\n",
       "      <td>0.514084</td>\n",
       "      <td>-1.351516</td>\n",
       "      <td>1</td>\n",
       "      <td>0</td>\n",
       "      <td>2</td>\n",
       "      <td>2.95</td>\n",
       "      <td>0</td>\n",
       "    </tr>\n",
       "    <tr>\n",
       "      <th>2</th>\n",
       "      <td>-0.459735</td>\n",
       "      <td>-0.522712</td>\n",
       "      <td>-0.712161</td>\n",
       "      <td>-1.666394</td>\n",
       "      <td>0.514084</td>\n",
       "      <td>-1.351516</td>\n",
       "      <td>1</td>\n",
       "      <td>0</td>\n",
       "      <td>2</td>\n",
       "      <td>3.10</td>\n",
       "      <td>0</td>\n",
       "    </tr>\n",
       "    <tr>\n",
       "      <th>3</th>\n",
       "      <td>-0.466496</td>\n",
       "      <td>-0.522712</td>\n",
       "      <td>-0.712161</td>\n",
       "      <td>-1.866042</td>\n",
       "      <td>0.514084</td>\n",
       "      <td>-1.170897</td>\n",
       "      <td>1</td>\n",
       "      <td>0</td>\n",
       "      <td>3</td>\n",
       "      <td>2.74</td>\n",
       "      <td>0</td>\n",
       "    </tr>\n",
       "    <tr>\n",
       "      <th>4</th>\n",
       "      <td>2.045033</td>\n",
       "      <td>-0.522712</td>\n",
       "      <td>2.389134</td>\n",
       "      <td>0.589937</td>\n",
       "      <td>0.514084</td>\n",
       "      <td>0.274057</td>\n",
       "      <td>1</td>\n",
       "      <td>2</td>\n",
       "      <td>13</td>\n",
       "      <td>106.70</td>\n",
       "      <td>2</td>\n",
       "    </tr>\n",
       "  </tbody>\n",
       "</table>\n",
       "</div>"
      ],
      "text/plain": [
       "   Lagging_Current_Reactive.Power_kVarh  Leading_Current_Reactive_Power_kVarh  \\\n",
       "0                             -0.607869                             -0.522712   \n",
       "1                             -0.466496                             -0.522712   \n",
       "2                             -0.459735                             -0.522712   \n",
       "3                             -0.466496                             -0.522712   \n",
       "4                              2.045033                             -0.522712   \n",
       "\n",
       "   CO2(tCO2)  Lagging_Current_Power_Factor  Leading_Current_Power_Factor  \\\n",
       "0  -0.712161                     -0.287349                      0.514084   \n",
       "1  -0.712161                     -1.723965                      0.514084   \n",
       "2  -0.712161                     -1.666394                      0.514084   \n",
       "3  -0.712161                     -1.866042                      0.514084   \n",
       "4   2.389134                      0.589937                      0.514084   \n",
       "\n",
       "        NSM  WeekStatus  Load_Type  hour  Usage_kWh  Cluster  \n",
       "0 -0.845782           0          0     6       3.53        0  \n",
       "1 -1.351516           1          0     2       2.95        0  \n",
       "2 -1.351516           1          0     2       3.10        0  \n",
       "3 -1.170897           1          0     3       2.74        0  \n",
       "4  0.274057           1          2    13     106.70        2  "
      ]
     },
     "execution_count": 19,
     "metadata": {},
     "output_type": "execute_result"
    }
   ],
   "source": [
    "# Cluster data points\n",
    "kmeans = KMeans(n_clusters=kn.knee, init='k-means++', random_state=42)\n",
    "y_kmeans = kmeans.fit_predict(x)\n",
    "df['Cluster'] = y_kmeans \n",
    "df.head()"
   ]
  },
  {
   "cell_type": "code",
   "execution_count": 20,
   "id": "1bd6d767",
   "metadata": {},
   "outputs": [
    {
     "name": "stdout",
     "output_type": "stream",
     "text": [
      "No. of datapoints in cluster 0 :  10463\n",
      "No. of datapoints in cluster 1 :  8982\n",
      "No. of datapoints in cluster 2 :  10339\n"
     ]
    }
   ],
   "source": [
    "# Data points in each cluster\n",
    "for i in range(kn.knee):\n",
    "    l = len(df[df['Cluster'] == i])\n",
    "    print(\"No. of datapoints in cluster\",i,\": \",l)"
   ]
  },
  {
   "cell_type": "code",
   "execution_count": 21,
   "id": "314cd538",
   "metadata": {},
   "outputs": [],
   "source": [
    "# Save cluster\n",
    "pickle.dump(kmeans, open(\"cluster.pkl\", \"wb\" ))"
   ]
  },
  {
   "cell_type": "code",
   "execution_count": 22,
   "id": "bc6ad728",
   "metadata": {},
   "outputs": [],
   "source": [
    "# Save data\n",
    "df.to_csv('train_cluster.csv', index = False)"
   ]
  }
 ],
 "metadata": {
  "kernelspec": {
   "display_name": "Python 3",
   "language": "python",
   "name": "python3"
  },
  "language_info": {
   "codemirror_mode": {
    "name": "ipython",
    "version": 3
   },
   "file_extension": ".py",
   "mimetype": "text/x-python",
   "name": "python",
   "nbconvert_exporter": "python",
   "pygments_lexer": "ipython3",
   "version": "3.8.8"
  }
 },
 "nbformat": 4,
 "nbformat_minor": 5
}
